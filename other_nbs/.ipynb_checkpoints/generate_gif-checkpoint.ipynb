{
 "cells": [
  {
   "cell_type": "markdown",
   "metadata": {},
   "source": [
    "# Generate gif for Bushnell Notebook\n",
    "<img style=\"float:right;\" src=\"https://irr2.gmu.edu/inc/AIETemplate/MasonM.png\" width=150px>\n",
    "### Description:\n",
    " - Read Bushnell photos and create a gif\n",
    " \n",
    "### Directions:\n",
    "1. Import Libraries and Assign Variables\n",
    "2. Define root directory\n",
    "3. Run\n"
   ]
  },
  {
   "cell_type": "code",
   "execution_count": 8,
   "metadata": {},
   "outputs": [],
   "source": [
    "from PIL import Image\n",
    "import os\n",
    "import glob"
   ]
  },
  {
   "cell_type": "code",
   "execution_count": 9,
   "metadata": {},
   "outputs": [],
   "source": [
    "root_dir = r'Z:\\Project_TNC\\Field\\Data\\RAW\\Pictures\\bushnell\\deal_20180523_20180912'"
   ]
  },
  {
   "cell_type": "code",
   "execution_count": 10,
   "metadata": {},
   "outputs": [],
   "source": [
    "os.chdir(root_dir)\n",
    "bushnell = []\n",
    "for f in glob.glob('EK*'):\n",
    "    bushnell.append(f)"
   ]
  },
  {
   "cell_type": "code",
   "execution_count": 11,
   "metadata": {},
   "outputs": [],
   "source": [
    "images = []\n",
    "for ii in range(0,1000):\n",
    "    frames = Image.open(bushnell[ii])\n",
    "    images.append(frames)\n",
    "images[0].save(os.path.join(root_dir,'deal_island1_v1_20180523_20180912.gif'),save_all=True,append_images=images[1:],delay=0.1,duration=300,loop=0)"
   ]
  },
  {
   "cell_type": "code",
   "execution_count": 12,
   "metadata": {},
   "outputs": [],
   "source": [
    "images = []\n",
    "for ii in range(1000,2000):\n",
    "    frames = Image.open(bushnell[ii])\n",
    "    images.append(frames)\n",
    "images[0].save(os.path.join(root_dir,'deal_island1_v2_20180523_20180912.gif'),save_all=True,append_images=images[1:],delay=0.1,duration=300,loop=0)"
   ]
  },
  {
   "cell_type": "code",
   "execution_count": 13,
   "metadata": {},
   "outputs": [],
   "source": [
    "images = []\n",
    "for ii in range(2000,3000):\n",
    "    frames = Image.open(bushnell[ii])\n",
    "    images.append(frames)\n",
    "images[0].save(os.path.join(root_dir,'deal_island1_v3_20180523_20180912.gif'),save_all=True,append_images=images[1:],delay=0.1,duration=300,loop=0)"
   ]
  },
  {
   "cell_type": "code",
   "execution_count": 14,
   "metadata": {},
   "outputs": [],
   "source": [
    "images = []\n",
    "for ii in range(3000,4000):\n",
    "    frames = Image.open(bushnell[ii])\n",
    "    images.append(frames)\n",
    "images[0].save(os.path.join(root_dir,'deal_island1_v4_20180523_20180912.gif'),save_all=True,append_images=images[1:],delay=0.1,duration=300,loop=0)"
   ]
  },
  {
   "cell_type": "code",
   "execution_count": 15,
   "metadata": {},
   "outputs": [],
   "source": [
    "images = []\n",
    "for ii in range(4000,5000):\n",
    "    frames = Image.open(bushnell[ii])\n",
    "    images.append(frames)\n",
    "images[0].save(os.path.join(root_dir,'deal_island1_v5_20180523_20180912.gif'),save_all=True,append_images=images[1:],delay=0.1,duration=300,loop=0)"
   ]
  },
  {
   "cell_type": "code",
   "execution_count": 16,
   "metadata": {},
   "outputs": [],
   "source": [
    "images = []\n",
    "for ii in range(5000,6000):\n",
    "    frames = Image.open(bushnell[ii])\n",
    "    images.append(frames)\n",
    "images[0].save(os.path.join(root_dir,'deal_island1_v6_20180523_20180912.gif'),save_all=True,append_images=images[1:],delay=0.1,duration=300,loop=0)"
   ]
  },
  {
   "cell_type": "code",
   "execution_count": 17,
   "metadata": {},
   "outputs": [],
   "source": [
    "images = []\n",
    "for ii in range(6000,7000):\n",
    "    frames = Image.open(bushnell[ii])\n",
    "    images.append(frames)\n",
    "images[0].save(os.path.join(root_dir,'deal_island1_v7_20180523_20180912.gif'),save_all=True,append_images=images[1:],delay=0.1,duration=300,loop=0)"
   ]
  },
  {
   "cell_type": "code",
   "execution_count": 18,
   "metadata": {},
   "outputs": [],
   "source": [
    "images = []\n",
    "for ii in range(7000,8000):\n",
    "    frames = Image.open(bushnell[ii])\n",
    "    images.append(frames)\n",
    "images[0].save(os.path.join(root_dir,'deal_island1_v8_20180523_20180912.gif'),save_all=True,append_images=images[1:],delay=0.1,duration=300,loop=0)"
   ]
  },
  {
   "cell_type": "code",
   "execution_count": 19,
   "metadata": {},
   "outputs": [],
   "source": [
    "images = []\n",
    "for ii in range(8000,len(bushnell)):\n",
    "    frames = Image.open(bushnell[ii])\n",
    "    images.append(frames)\n",
    "images[0].save(os.path.join(root_dir,'deal_island1_v9_20180523_20180912.gif'),save_all=True,append_images=images[1:],delay=0.1,duration=300,loop=0)"
   ]
  },
  {
   "cell_type": "code",
   "execution_count": null,
   "metadata": {},
   "outputs": [],
   "source": []
  },
  {
   "cell_type": "code",
   "execution_count": null,
   "metadata": {},
   "outputs": [],
   "source": []
  }
 ],
 "metadata": {
  "kernelspec": {
   "display_name": "Python [conda env:pillow]",
   "language": "python",
   "name": "conda-env-pillow-py"
  },
  "language_info": {
   "codemirror_mode": {
    "name": "ipython",
    "version": 3
   },
   "file_extension": ".py",
   "mimetype": "text/x-python",
   "name": "python",
   "nbconvert_exporter": "python",
   "pygments_lexer": "ipython3",
   "version": "3.6.5"
  }
 },
 "nbformat": 4,
 "nbformat_minor": 2
}
