{
 "cells": [
  {
   "cell_type": "markdown",
   "metadata": {},
   "source": [
    "# Generate fort.67 Notebook\n",
    "<img style=\"float:right;\" src=\"https://irr2.gmu.edu/inc/AIETemplate/MasonM.png\" width=150px>\n",
    "### Description:\n",
    " - Read multiple shapefiles and compile them to a single shapefile\n",
    " \n",
    "### Directions:\n",
    "1. Import Libraries and Assign Variables\n",
    "2. Define root directory\n",
    "3. Run\n"
   ]
  },
  {
   "cell_type": "code",
   "execution_count": 1,
   "metadata": {},
   "outputs": [],
   "source": [
    "import pandas as pd\n",
    "import numpy as np\n",
    "import os\n",
    "from decimal import Decimal"
   ]
  },
  {
   "cell_type": "code",
   "execution_count": 2,
   "metadata": {},
   "outputs": [],
   "source": [
    "root_dir = r'C:\\Users\\tmiesse\\Work\\climate_grib'\n",
    "file = 'fort.67.asc'"
   ]
  },
  {
   "cell_type": "code",
   "execution_count": 3,
   "metadata": {},
   "outputs": [],
   "source": [
    "f67 = os.path.join(root_dir,file)\n",
    "f14 = os.path.join(root_dir,'fort.14')\n",
    "fnew= os.path.join(root_dir,'fort.67.new')"
   ]
  },
  {
   "cell_type": "code",
   "execution_count": 4,
   "metadata": {},
   "outputs": [],
   "source": [
    "def find_columns(data):\n",
    "    data2 = []\n",
    "    for f in data.split(' '):\n",
    "        if f != '':\n",
    "            data2.append(f)   \n",
    "    return data2"
   ]
  },
  {
   "cell_type": "code",
   "execution_count": 5,
   "metadata": {},
   "outputs": [],
   "source": [
    "node_id,data,label=[],[],[]\n",
    "with open(f67,'r') as fin:\n",
    "    lines = fin.readlines()\n",
    "for i in range(9,len(lines)):\n",
    "    data.append(find_columns(lines[i])[2].split('\\n')[0])\n",
    "    node_id.append(find_columns(lines[i])[1])\n",
    "    label.append(find_columns(lines[i])[0])"
   ]
  },
  {
   "cell_type": "code",
   "execution_count": 6,
   "metadata": {},
   "outputs": [
    {
     "data": {
      "text/html": [
       "<div>\n",
       "<style scoped>\n",
       "    .dataframe tbody tr th:only-of-type {\n",
       "        vertical-align: middle;\n",
       "    }\n",
       "\n",
       "    .dataframe tbody tr th {\n",
       "        vertical-align: top;\n",
       "    }\n",
       "\n",
       "    .dataframe thead th {\n",
       "        text-align: right;\n",
       "    }\n",
       "</style>\n",
       "<table border=\"1\" class=\"dataframe\">\n",
       "  <thead>\n",
       "    <tr style=\"text-align: right;\">\n",
       "      <th></th>\n",
       "      <th>label</th>\n",
       "      <th>node</th>\n",
       "      <th>data</th>\n",
       "    </tr>\n",
       "  </thead>\n",
       "  <tbody>\n",
       "    <tr>\n",
       "      <th>0</th>\n",
       "      <td>ETA1</td>\n",
       "      <td>1:</td>\n",
       "      <td>3.9557633972E+01</td>\n",
       "    </tr>\n",
       "    <tr>\n",
       "      <th>1</th>\n",
       "      <td>ETA1</td>\n",
       "      <td>2:</td>\n",
       "      <td>4.0512471771E+01</td>\n",
       "    </tr>\n",
       "    <tr>\n",
       "      <th>2</th>\n",
       "      <td>ETA1</td>\n",
       "      <td>3:</td>\n",
       "      <td>5.4754064179E+01</td>\n",
       "    </tr>\n",
       "    <tr>\n",
       "      <th>3</th>\n",
       "      <td>ETA1</td>\n",
       "      <td>4:</td>\n",
       "      <td>2.5022111511E+01</td>\n",
       "    </tr>\n",
       "    <tr>\n",
       "      <th>4</th>\n",
       "      <td>ETA1</td>\n",
       "      <td>5:</td>\n",
       "      <td>2.2844218826E+01</td>\n",
       "    </tr>\n",
       "  </tbody>\n",
       "</table>\n",
       "</div>"
      ],
      "text/plain": [
       "  label node              data\n",
       "0  ETA1   1:  3.9557633972E+01\n",
       "1  ETA1   2:  4.0512471771E+01\n",
       "2  ETA1   3:  5.4754064179E+01\n",
       "3  ETA1   4:  2.5022111511E+01\n",
       "4  ETA1   5:  2.2844218826E+01"
      ]
     },
     "execution_count": 6,
     "metadata": {},
     "output_type": "execute_result"
    }
   ],
   "source": [
    "table67 = pd.DataFrame()\n",
    "table67.insert(0,'label',label)\n",
    "table67.insert(1,'node',node_id)\n",
    "table67.insert(2,'data',data)\n",
    "table67.head(2)"
   ]
  },
  {
   "cell_type": "code",
   "execution_count": 7,
   "metadata": {},
   "outputs": [
    {
     "data": {
      "text/html": [
       "<div>\n",
       "<style scoped>\n",
       "    .dataframe tbody tr th:only-of-type {\n",
       "        vertical-align: middle;\n",
       "    }\n",
       "\n",
       "    .dataframe tbody tr th {\n",
       "        vertical-align: top;\n",
       "    }\n",
       "\n",
       "    .dataframe thead th {\n",
       "        text-align: right;\n",
       "    }\n",
       "</style>\n",
       "<table border=\"1\" class=\"dataframe\">\n",
       "  <thead>\n",
       "    <tr style=\"text-align: right;\">\n",
       "      <th></th>\n",
       "      <th>node_id</th>\n",
       "      <th>node_x</th>\n",
       "      <th>node_y</th>\n",
       "      <th>value</th>\n",
       "    </tr>\n",
       "  </thead>\n",
       "  <tbody>\n",
       "    <tr>\n",
       "      <th>0</th>\n",
       "      <td>1</td>\n",
       "      <td>-76.9454281377</td>\n",
       "      <td>39.0026000108</td>\n",
       "      <td>-39.4576339722</td>\n",
       "    </tr>\n",
       "    <tr>\n",
       "      <th>1</th>\n",
       "      <td>2</td>\n",
       "      <td>-76.9465507379</td>\n",
       "      <td>38.9968142640</td>\n",
       "      <td>-40.4124717712</td>\n",
       "    </tr>\n",
       "  </tbody>\n",
       "</table>\n",
       "</div>"
      ],
      "text/plain": [
       "  node_id          node_x         node_y           value\n",
       "0       1  -76.9454281377  39.0026000108  -39.4576339722\n",
       "1       2  -76.9465507379  38.9968142640  -40.4124717712"
      ]
     },
     "execution_count": 7,
     "metadata": {},
     "output_type": "execute_result"
    }
   ],
   "source": [
    "nodesx, nodesy, value, node_id, node_name, loc = [], [], [], [], [], []\n",
    "with open(f14, 'r') as f:\n",
    "    lines = f.readlines()\n",
    "    for i in range(0,len(lines)):\n",
    "        line = lines[i]\n",
    "        nodes = int(lines[1].split(' ')[2])\n",
    "        if i>1 and i<nodes+2:\n",
    "            loc.append(line.strip().split('\\n')[0])\n",
    "for i in range(len(loc)):\n",
    "    node_id.append(find_columns(loc[i])[0])\n",
    "    nodesx.append(find_columns(loc[i])[1])\n",
    "    nodesy.append(find_columns(loc[i])[2])\n",
    "    value.append(find_columns(loc[i])[3])\n",
    "node_name = {'node_id':node_id}\n",
    "table = pd.DataFrame(node_name)\n",
    "table.insert(1,'node_x',nodesx)\n",
    "table.insert(2,'node_y',nodesy)\n",
    "table.insert(3,'value',value)\n",
    "table.head(2)"
   ]
  },
  {
   "cell_type": "code",
   "execution_count": 8,
   "metadata": {},
   "outputs": [],
   "source": [
    "label2 = list(table67['label'].unique())\n",
    "df = table67[table67['label'] == label2[0]]"
   ]
  },
  {
   "cell_type": "code",
   "execution_count": 10,
   "metadata": {},
   "outputs": [
    {
     "data": {
      "text/html": [
       "<div>\n",
       "<style scoped>\n",
       "    .dataframe tbody tr th:only-of-type {\n",
       "        vertical-align: middle;\n",
       "    }\n",
       "\n",
       "    .dataframe tbody tr th {\n",
       "        vertical-align: top;\n",
       "    }\n",
       "\n",
       "    .dataframe thead th {\n",
       "        text-align: right;\n",
       "    }\n",
       "</style>\n",
       "<table border=\"1\" class=\"dataframe\">\n",
       "  <thead>\n",
       "    <tr style=\"text-align: right;\">\n",
       "      <th></th>\n",
       "      <th>node_id</th>\n",
       "      <th>bias</th>\n",
       "    </tr>\n",
       "  </thead>\n",
       "  <tbody>\n",
       "    <tr>\n",
       "      <th>0</th>\n",
       "      <td>1</td>\n",
       "      <td>0.5</td>\n",
       "    </tr>\n",
       "    <tr>\n",
       "      <th>1</th>\n",
       "      <td>2</td>\n",
       "      <td>0.5</td>\n",
       "    </tr>\n",
       "  </tbody>\n",
       "</table>\n",
       "</div>"
      ],
      "text/plain": [
       "  node_id  bias\n",
       "0       1   0.5\n",
       "1       2   0.5"
      ]
     },
     "execution_count": 10,
     "metadata": {},
     "output_type": "execute_result"
    }
   ],
   "source": [
    "df2 = pd.DataFrame(table['node_id'])\n",
    "df2.insert(1,'bias',0.5)\n",
    "df2.head(2)"
   ]
  },
  {
   "cell_type": "code",
   "execution_count": null,
   "metadata": {},
   "outputs": [],
   "source": [
    "for i in range(0,len(table)):\n",
    "    if float(table['value'][i]) <= 0:\n",
    "        df['data'][i] = str(float(df['data'][i]) + df2['bias'][i])\n",
    "    else:\n",
    "        df['data'][i] = df['data'][i]"
   ]
  },
  {
   "cell_type": "code",
   "execution_count": 44,
   "metadata": {},
   "outputs": [
    {
     "data": {
      "text/plain": [
       "0.39557633972"
      ]
     },
     "execution_count": 44,
     "metadata": {},
     "output_type": "execute_result"
    }
   ],
   "source": [
    "ele = float(data)/100\n",
    "ele\n",
    "'{:.10E}'.format(new)"
   ]
  },
  {
   "cell_type": "code",
   "execution_count": 24,
   "metadata": {},
   "outputs": [],
   "source": [
    "with open(fnew,'w') as fout:\n",
    "    for i in range(0,len(lines)):\n",
    "        fout.write(lines[i]+'new')"
   ]
  },
  {
   "cell_type": "code",
   "execution_count": null,
   "metadata": {},
   "outputs": [],
   "source": []
  }
 ],
 "metadata": {
  "kernelspec": {
   "display_name": "Python [conda env:anaconda3]",
   "language": "python",
   "name": "conda-env-anaconda3-py"
  },
  "language_info": {
   "codemirror_mode": {
    "name": "ipython",
    "version": 3
   },
   "file_extension": ".py",
   "mimetype": "text/x-python",
   "name": "python",
   "nbconvert_exporter": "python",
   "pygments_lexer": "ipython3",
   "version": "3.6.5"
  }
 },
 "nbformat": 4,
 "nbformat_minor": 2
}
