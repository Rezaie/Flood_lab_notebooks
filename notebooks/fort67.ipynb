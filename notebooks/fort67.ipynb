version https://git-lfs.github.com/spec/v1
oid sha256:d775ea7aadd2e1878f2d4cdcf99562dd3d59637e45b6098c33e2256c1050aefb
size 82555
