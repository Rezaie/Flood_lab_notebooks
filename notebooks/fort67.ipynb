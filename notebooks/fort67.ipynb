version https://git-lfs.github.com/spec/v1
oid sha256:5825d799eea314c0fafc0110ef50390a81244ec5bd7bc85b1ac0252a082fa03f
size 23432
