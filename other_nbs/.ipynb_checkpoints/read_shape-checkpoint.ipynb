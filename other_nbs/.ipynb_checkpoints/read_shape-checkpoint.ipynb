{
 "cells": [
  {
   "cell_type": "markdown",
   "metadata": {},
   "source": [
    "# Read/Generate Shapefiles Notebook\n",
    "<img style=\"float:right;\" src=\"https://irr2.gmu.edu/inc/AIETemplate/MasonM.png\" width=150px>\n",
    "### Description:\n",
    " - Read multiple shapefiles and compile them to a single shapefile\n",
    " \n",
    "### Directions:\n",
    "1. Import Libraries and Assign Variables\n",
    "2. Define root directory\n",
    "3. Run\n"
   ]
  },
  {
   "cell_type": "markdown",
   "metadata": {},
   "source": [
    "#### 1. Import Libraries"
   ]
  },
  {
   "cell_type": "code",
   "execution_count": 1,
   "metadata": {},
   "outputs": [],
   "source": [
    "import zipfile\n",
    "import os\n",
    "import pandas as pd\n",
    "import geopandas as gpd\n",
    "import glob"
   ]
  },
  {
   "cell_type": "markdown",
   "metadata": {},
   "source": [
    "#### 2. Assign Paths and Variables"
   ]
  },
  {
   "cell_type": "code",
   "execution_count": 2,
   "metadata": {},
   "outputs": [],
   "source": [
    "root_dir = r'C:\\Users\\tmiesse\\work\\ceie499\\soils'\n",
    "path2,path3,path4 = [],[],[]\n",
    "data = []"
   ]
  },
  {
   "cell_type": "code",
   "execution_count": 3,
   "metadata": {},
   "outputs": [],
   "source": [
    "path1 = glob.glob(os.path.join(root_dir,'wss_SSA_VA*'))\n",
    "for i in range(0,len(path1)):\n",
    "    path2.append(glob.glob(os.path.join(path1[i],'VA*')))\n",
    "for i in range(0,len(path2)):\n",
    "    path3.append(glob.glob(os.path.join(path2[i][0],'spatial')))\n",
    "for i in range(0,len(path3)):\n",
    "    path4.append(glob.glob(os.path.join(path3[i][0],'soilmu_a_va***.shp')))"
   ]
  },
  {
   "cell_type": "code",
   "execution_count": 4,
   "metadata": {},
   "outputs": [],
   "source": [
    "for i in range(0,len(path4)):\n",
    "    data.append(gpd.read_file(path4[i][0]))\n"
   ]
  },
  {
   "cell_type": "markdown",
   "metadata": {},
   "source": [
    "#### 3. Join GeoDataFrames"
   ]
  },
  {
   "cell_type": "code",
   "execution_count": 8,
   "metadata": {},
   "outputs": [],
   "source": [
    "table = pd.DataFrame()\n",
    "for i in range(0,len(data)):\n",
    "    data_join = gpd.GeoDataFrame(data[i])\n",
    "    table = pd.concat([table,data_join])"
   ]
  },
  {
   "cell_type": "code",
   "execution_count": null,
   "metadata": {},
   "outputs": [],
   "source": [
    "table.to_file(os.path.join(root_dir,'soil.shp'))"
   ]
  },
  {
   "cell_type": "code",
   "execution_count": null,
   "metadata": {},
   "outputs": [],
   "source": []
  },
  {
   "cell_type": "code",
   "execution_count": null,
   "metadata": {},
   "outputs": [],
   "source": [
    "soil = gpd.read_file(os.path.join(root_dir,'compiled.shp'))"
   ]
  },
  {
   "cell_type": "code",
   "execution_count": null,
   "metadata": {},
   "outputs": [],
   "source": [
    "soil.plot()"
   ]
  },
  {
   "cell_type": "code",
   "execution_count": null,
   "metadata": {},
   "outputs": [],
   "source": []
  }
 ],
 "metadata": {
  "kernelspec": {
   "display_name": "Python [conda env:geos]",
   "language": "python",
   "name": "conda-env-geos-py"
  },
  "language_info": {
   "codemirror_mode": {
    "name": "ipython",
    "version": 3
   },
   "file_extension": ".py",
   "mimetype": "text/x-python",
   "name": "python",
   "nbconvert_exporter": "python",
   "pygments_lexer": "ipython3",
   "version": "3.6.6"
  }
 },
 "nbformat": 4,
 "nbformat_minor": 2
}
